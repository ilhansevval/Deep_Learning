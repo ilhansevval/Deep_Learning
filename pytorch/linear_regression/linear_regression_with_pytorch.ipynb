{
  "nbformat": 4,
  "nbformat_minor": 0,
  "metadata": {
    "colab": {
      "name": "linear_regression_with_pytorch.ipynb",
      "provenance": [],
      "collapsed_sections": []
    },
    "kernelspec": {
      "name": "python3",
      "display_name": "Python 3"
    },
    "language_info": {
      "name": "python"
    }
  },
  "cells": [
    {
      "cell_type": "markdown",
      "source": [
        "# **Linear Regression**\n",
        "\n",
        "**y = b0 + b1*x** -> linear regression'ın matematiksel formülüdür.\n",
        "\n",
        "**y -> bağımlı değişken**\n",
        "\n",
        "**x-> bağımsız değişken**\n",
        "\n",
        "Bağımsız değişken ile bağımlı değişken tahmin edilmeye çalışılır."
      ],
      "metadata": {
        "id": "43-X6LYqtipn"
      }
    },
    {
      "cell_type": "code",
      "source": [
        "import numpy as np\n",
        "import matplotlib.pyplot as plt\n",
        "import torch\n",
        "from torch.autograd import Variable    \n",
        "import torch.nn as nn \n",
        "import warnings\n",
        "warnings.filterwarnings(\"ignore\")"
      ],
      "metadata": {
        "id": "SbE9OnBlD8gm"
      },
      "execution_count": 85,
      "outputs": []
    },
    {
      "cell_type": "markdown",
      "source": [
        "Linear regression'da araba fiyatları ve arabaların satılma sayıları feature olarak kullanılacaktır.\n",
        "\n",
        "Arabanın fiyatı arttıkça satışı azalıcaktır. Bu durumda iki feature arasında negatif yönlü bir corelation vardır.\n",
        "\n",
        "Bağımsız değişken araba fiyatları, bağımlı değişken arabaların satılma sayılarıdır.\n",
        "\n",
        "Amaç bu iki feature arasındaki en iyi line'ı bulmaktır.\n",
        "\n",
        "Bu line ile araba fiyatına göre araba satılma sayıları predict edilebilir."
      ],
      "metadata": {
        "id": "Ae5lxg__fCOn"
      }
    },
    {
      "cell_type": "code",
      "source": [
        "car_prices_array = [3,4,5,6,7,8,9]\n",
        "car_price_np = np.array(car_prices_array,dtype=np.float32)\n",
        "car_price_np.shape"
      ],
      "metadata": {
        "colab": {
          "base_uri": "https://localhost:8080/"
        },
        "id": "BQ8_L6Bqqz8o",
        "outputId": "929eac68-e5d4-4a03-a6f8-c043ccd9271a"
      },
      "execution_count": null,
      "outputs": [
        {
          "output_type": "execute_result",
          "data": {
            "text/plain": [
              "(7,)"
            ]
          },
          "metadata": {},
          "execution_count": 34
        }
      ]
    },
    {
      "cell_type": "markdown",
      "source": [
        "Pytorch kütüphanesinin car_price feature'nın bir sütundan oluştuğunu anlaması için reshape yapılır, reshape yapıldıktan sonra numpy array'den pytorch tensor'a çevrilir."
      ],
      "metadata": {
        "id": "Y8ZhueEpq49d"
      }
    },
    {
      "cell_type": "code",
      "source": [
        "car_price_tensor = Variable(torch.from_numpy(car_price_np))\n",
        "car_price_tensor"
      ],
      "metadata": {
        "colab": {
          "base_uri": "https://localhost:8080/"
        },
        "id": "J-3BEPuUqRBm",
        "outputId": "d873ae58-854e-4d01-d2bb-57f252e7f5be"
      },
      "execution_count": null,
      "outputs": [
        {
          "output_type": "execute_result",
          "data": {
            "text/plain": [
              "tensor([3., 4., 5., 6., 7., 8., 9.])"
            ]
          },
          "metadata": {},
          "execution_count": 35
        }
      ]
    },
    {
      "cell_type": "code",
      "source": [
        "#car sell\n",
        "number_of_car_sell_array = [ 7.5, 7, 6.5, 6.0, 5.5, 5.0, 4.5]\n",
        "number_of_car_sell_np = np.array(number_of_car_sell_array,dtype=np.float32)\n",
        "number_of_car_sell_np = number_of_car_sell_np.reshape(-1,1)\n",
        "number_of_car_sell_tensor = Variable(torch.from_numpy(number_of_car_sell_np))"
      ],
      "metadata": {
        "id": "OYSggk5GsFyh"
      },
      "execution_count": 87,
      "outputs": []
    },
    {
      "cell_type": "markdown",
      "source": [
        "Araba satışlarının tutulduğu feature da listeden array'e çevrilip reshape yapılıp, array'den tensor'e çevrilir."
      ],
      "metadata": {
        "id": "ALewLYIAsMZy"
      }
    },
    {
      "cell_type": "code",
      "execution_count": 88,
      "metadata": {
        "colab": {
          "base_uri": "https://localhost:8080/",
          "height": 295
        },
        "id": "EQTrbnbAD2ZX",
        "outputId": "8fe2d6ca-3cec-4805-89a3-d3bfd5c3f88c"
      },
      "outputs": [
        {
          "output_type": "display_data",
          "data": {
            "text/plain": [
              "<Figure size 432x288 with 1 Axes>"
            ],
            "image/png": "[encoded data removed]"
          },
          "metadata": {
            "needs_background": "light"
          }
        }
      ],
      "source": [
        "#visualizing\n",
        "plt.scatter(car_prices_array,number_of_car_sell_array)\n",
        "plt.xlabel(\"Car Price $\")\n",
        "plt.ylabel(\"Number of Car Sell\")\n",
        "plt.title(\"Car Price$ VS Number of Car Sell\")\n",
        "plt.show()"
      ]
    },
    {
      "cell_type": "markdown",
      "source": [
        "Pytorch'ta oluşturulacak linear regression modelinde şu adımlar izlenecektir;\n",
        "\n",
        "*   Linear regression class'ı yaratılmalıdır.\n",
        "*   Linear regression modeli class'ın içerisine define edilecektir.\n",
        "*   Linear regression'daki parametreleri eğitebilmek için bir error değerine sahip olmak gerekir. Bu error MSE (Mean Squared Error) yöntemi ile hesaplanır.\n",
        "*   Oluşan error değerine göre parametrelerin optimize edilmesi gerekir. Optimize algoritması olarak SGD (Stochastic Gradient Descent) yöntemi kullanılacaktır.\n",
        "*   Backward propagation ile parametreler güncellenir.\n",
        "*   Forward ve backward propagation işlemi adım sayısı belirlenerek bir for döngüsünde yapılır. For döngüsü yapılmazsa parametrelerin adım sayısı kadar tek tek güncellenmesi gerekir.\n",
        "*   Bulunan en uygun parametrelerle line predict edilir.\n",
        "\n",
        "\n",
        "\n",
        "\n"
      ],
      "metadata": {
        "id": "hcxXYsG_uvYF"
      }
    },
    {
      "cell_type": "markdown",
      "source": [
        "**b0(constant)(bias)** = Line'ın y eksenini kestiği yer ve regresyon sabitidir.\n",
        "\n",
        "**b1(coefficient)** = Line'ın eğimi veya regresyon katsayısıdır."
      ],
      "metadata": {
        "id": "OXtA6wbczzVL"
      }
    },
    {
      "cell_type": "code",
      "source": [
        "#create class\n",
        "class LinearRegression(nn.Module):\n",
        "    def __init__(self,input_size,output_size): #linear regression modelinde input size ve output size bilinmelidir.\n",
        "        super(LinearRegression,self).__init__() #neural network modülünden Linear Regression parametreleri inherit edilir.\n",
        "        self.linear = nn.Linear(input_dim,output_dim)\n",
        "\n",
        "    def forward(self,x):\n",
        "        return self.linear(x) #linear regression modeli x adında bir input parametresi alır ve y -> output döndürür."
      ],
      "metadata": {
        "id": "2x9Xdp7L0LGO"
      },
      "execution_count": 89,
      "outputs": []
    },
    {
      "cell_type": "code",
      "source": [
        "#define model\n",
        "input_dim = 1\n",
        "output_dim = 1\n",
        "model = LinearRegression(input_dim,output_dim) #y = b0 + b1*x"
      ],
      "metadata": {
        "id": "zhuH3rJt0N-s"
      },
      "execution_count": 90,
      "outputs": []
    },
    {
      "cell_type": "markdown",
      "source": [
        "y = b0 + b1*x linear regression formülünde x ve y skaler değerlerdir. Bu yüzden dimension'ları 1'dir."
      ],
      "metadata": {
        "id": "fxPPSWTM0OsU"
      }
    },
    {
      "cell_type": "code",
      "source": [
        "# MSE\n",
        "mse = nn.MSELoss()"
      ],
      "metadata": {
        "id": "z9oQKMYi08uU"
      },
      "execution_count": 91,
      "outputs": []
    },
    {
      "cell_type": "code",
      "source": [
        "# Optimization (find parameters that minimize error)\n",
        "learning_rate = 0.02   # how fast we reach best parameters\n",
        "optimizer = torch.optim.SGD(model.parameters(),lr = learning_rate)"
      ],
      "metadata": {
        "id": "8RyNnWMq1Adg"
      },
      "execution_count": 92,
      "outputs": []
    },
    {
      "cell_type": "markdown",
      "source": [
        "b0 ve b1 değerlerini güncellemek için Stochastic Gradient Descent yöntemi kullanılmıştır."
      ],
      "metadata": {
        "id": "he0f6AAC1CAa"
      }
    },
    {
      "cell_type": "code",
      "source": [
        "# train model\n",
        "loss_list = []\n",
        "iteration_number = 700\n",
        "for iteration in range(iteration_number):\n",
        "        \n",
        "    # optimization\n",
        "    optimizer.zero_grad() #b0 ve b1 parametreleri başlangıçta 0 olarak verilir.\n",
        "    \n",
        "    # Forward to get output\n",
        "    results = model(car_price_tensor) #linear regression modelinin içerisine araç fiyatları feature'ı koyulur.\n",
        "                                      #result -> output -> y değeridir.\n",
        "    \n",
        "    # Calculate Loss\n",
        "    loss = mse(results, number_of_car_sell_tensor) #gerçek noktalar ile modelin bulduğu y değerleri arasındaki hata mse yöntemi ile bulunur.\n",
        "    \n",
        "    # backward propagation\n",
        "    loss.backward() #türev değerleri elde edilir.\n",
        "    \n",
        "    #Updating parameters\n",
        "    optimizer.step() #türev değerine göre b0 ve b1 parametreleri güncellenir.\n",
        "    \n",
        "    # store loss\n",
        "    loss_list.append(loss.data) #loss değerleri boş bir listede depolanır.\n",
        "    \n",
        "    # print loss\n",
        "    if(iteration % 50 == 0):\n",
        "        print('Epoch: {} -----> loss: {}'.format(iteration, loss_list))"
      ],
      "metadata": {
        "colab": {
          "base_uri": "https://localhost:8080/"
        },
        "id": "YhclLDvO1RLt",
        "outputId": "012c5dfa-3ed1-46aa-d609-95b4002556c6"
      },
      "execution_count": 93,
      "outputs": [
        {
          "output_type": "stream",
          "name": "stdout",
          "text": [
            "Epoch: 0 -----> loss: 9.9787015914917\n",
            "Epoch: 50 -----> loss: 4.78549337387085\n",
            "Epoch: 100 -----> loss: 3.2337582111358643\n",
            "Epoch: 150 -----> loss: 2.1851868629455566\n",
            "Epoch: 200 -----> loss: 1.4766223430633545\n",
            "Epoch: 250 -----> loss: 0.9978145360946655\n",
            "Epoch: 300 -----> loss: 0.6742649674415588\n",
            "Epoch: 350 -----> loss: 0.4556291699409485\n",
            "Epoch: 400 -----> loss: 0.30788758397102356\n",
            "Epoch: 450 -----> loss: 0.20805253088474274\n",
            "Epoch: 500 -----> loss: 0.14058996737003326\n",
            "Epoch: 550 -----> loss: 0.09500249475240707\n",
            "Epoch: 600 -----> loss: 0.06419753283262253\n",
            "Epoch: 650 -----> loss: 0.043380651623010635\n"
          ]
        }
      ]
    },
    {
      "cell_type": "markdown",
      "source": [
        "İlk adımda loss değeri çok yüksektir, backward propagation ile parametreler güncellendikçe giderek azalır."
      ],
      "metadata": {
        "id": "k9lY2jGFDKNR"
      }
    },
    {
      "cell_type": "code",
      "source": [
        "plt.plot(range(iteration_number),loss_list)\n",
        "plt.xlabel(\"Number of Iterations\")\n",
        "plt.ylabel(\"Loss\")\n",
        "plt.show()"
      ],
      "metadata": {
        "colab": {
          "base_uri": "https://localhost:8080/",
          "height": 279
        },
        "id": "wT4xh749D3QA",
        "outputId": "fad522e2-ad56-4323-a16e-07f5f71cb19f"
      },
      "execution_count": 94,
      "outputs": [
        {
          "output_type": "display_data",
          "data": {
            "text/plain": [
              "<Figure size 432x288 with 1 Axes>"
            ],
            "image/png": "[encoded data removed]"
          },
          "metadata": {
            "needs_background": "light"
          }
        }
      ]
    },
    {
      "cell_type": "code",
      "source": [
        "predicted = model(car_price_tensor).data.numpy() #güncellenen parametreler ile prediction yapılır.\n",
        "plt.scatter(car_prices_array,number_of_car_sell_array,label = \"original data\",color =\"red\")\n",
        "plt.scatter(car_prices_array,predicted,label = \"predicted data\",color =\"blue\")\n",
        "plt.legend()\n",
        "plt.xlabel(\"Car Price $\")\n",
        "plt.ylabel(\"Number of Car Sell\")\n",
        "plt.title(\"Original vs Predicted values\")\n",
        "plt.show()"
      ],
      "metadata": {
        "colab": {
          "base_uri": "https://localhost:8080/",
          "height": 295
        },
        "id": "E5HDMkG63eO3",
        "outputId": "a4a758c8-98b2-4fef-d1b9-e7b24a2ed387"
      },
      "execution_count": 95,
      "outputs": [
        {
          "output_type": "display_data",
          "data": {
            "text/plain": [
              "<Figure size 432x288 with 1 Axes>"
            ],
            "image/png": "[encoded data removed]"
          },
          "metadata": {
            "needs_background": "light"
          }
        }
      ]
    },
    {
      "cell_type": "markdown",
      "source": [
        "Orijinal data ile predicted data'nın neredeyse tam doğru olarak tahmin edildiği görülür."
      ],
      "metadata": {
        "id": "yHkRra9cEPt7"
      }
    }
  ]
}