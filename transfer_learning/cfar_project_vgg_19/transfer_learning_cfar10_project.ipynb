{
  "cells": [
    {
      "cell_type": "code",
      "execution_count": null,
      "metadata": {
        "id": "KPzkcYnYr0ST"
      },
      "outputs": [],
      "source": [
        "#importing libraries\n",
        "from keras.applications.vgg19 import VGG19\n",
        "from keras.models import Sequential\n",
        "from tensorflow.keras.utils import to_categorical #kerasta labellear 0,1,2,3,4,5,6,7,8,9 yazmak yerine categorical hale getirilir.\n",
        "from keras.layers import Dense, Flatten\n",
        "from keras.datasets import cifar10\n",
        "import matplotlib.pyplot as plt\n",
        "import cv2 #open cv kütüphanesi\n",
        "import numpy as np"
      ]
    },
    {
      "cell_type": "markdown",
      "metadata": {
        "id": "sa-z1EM21kbA"
      },
      "source": [
        "cv2 (open cv kütüphanesi) -> cifar dataseti içerisinde bulunan görseller vgg modeline input olarak verilirken 48x48 boyutunda olmalıdır. Ancak cifar dataseti içerisindeki görseller bu boyutta değildir. Bu yüzden görsellerin boyutunun open cv kütüphanesi ile değiştirilmesi lazımdır."
      ]
    },
    {
      "cell_type": "code",
      "execution_count": null,
      "metadata": {
        "id": "tPqzlC_KsI-P"
      },
      "outputs": [],
      "source": [
        "(x_train, y_train),(x_test, y_test) = cifar10.load_data() #cifar datası yüklenir.\n",
        "print(\"x_train shape\",x_train.shape)\n",
        "print(\"train sample:\",x_train.shape[0])"
      ]
    },
    {
      "cell_type": "markdown",
      "metadata": {
        "id": "oz3OIYdH3cA7"
      },
      "source": [
        "train datasında 50000 sample bulunmaktadır.\n",
        "\n",
        "32x32 boyutundadır.\n",
        "\n",
        "3 -> rgb, renkli görsellerdir."
      ]
    },
    {
      "cell_type": "code",
      "execution_count": null,
      "metadata": {
        "id": "457MR_kc7Kvy"
      },
      "outputs": [],
      "source": [
        "import tensorflow as tf\n",
        "device_name = tf.test.gpu_device_name()\n",
        "if device_name != \"/device:GPU:0\":\n",
        "    raise SystemError(\"GPU device not found\")\n",
        "print(\"Found GPU at: {}\".format(device_name))"
      ]
    },
    {
      "cell_type": "code",
      "execution_count": null,
      "metadata": {
        "id": "9pgu0j77sKl4"
      },
      "outputs": [],
      "source": [
        "numberOfClass = 10"
      ]
    },
    {
      "cell_type": "markdown",
      "metadata": {
        "id": "Z6iKZ8i04ThW"
      },
      "source": [
        "cifar datasında 10 farklı görsel bulunduğundan class sayısı 10 olarak belirlenir."
      ]
    },
    {
      "cell_type": "code",
      "execution_count": null,
      "metadata": {
        "id": "9TVJK95RsMWJ"
      },
      "outputs": [],
      "source": [
        "y_train = to_categorical(y_train, numberOfClass)\n",
        "y_test = to_categorical(y_test, numberOfClass)"
      ]
    },
    {
      "cell_type": "markdown",
      "metadata": {
        "id": "-tikpqWF4kC4"
      },
      "source": [
        "y_train ve y_test label'ları class sayısı kadar kategori haline getirilir."
      ]
    },
    {
      "cell_type": "code",
      "execution_count": null,
      "metadata": {
        "id": "Gi9M5yVUsOA0"
      },
      "outputs": [],
      "source": [
        "input_shape = x_train.shape[1:]"
      ]
    },
    {
      "cell_type": "markdown",
      "metadata": {
        "id": "E6yPrMx14_99"
      },
      "source": [
        "cifar datasındaki görsellerin boyutuna bakılmıştır."
      ]
    },
    {
      "cell_type": "code",
      "execution_count": null,
      "metadata": {
        "id": "5cyIHHYmsUty",
        "outputId": "b8c8f478-e17e-43f5-d0c7-75a906d70640",
        "colab": {
          "base_uri": "https://localhost:8080/",
          "height": 248
        }
      },
      "outputs": [
        {
          "output_type": "display_data",
          "data": {
            "text/plain": [
              "<Figure size 432x288 with 1 Axes>"
            ],
            "image/png": "[encoded data removed]"
          },
          "metadata": {
            "needs_background": "light"
          }
        }
      ],
      "source": [
        "#visualize\n",
        "plt.imshow(x_train[551].astype(np.uint8))\n",
        "plt.axis(\"off\")\n",
        "plt.show()"
      ]
    },
    {
      "cell_type": "markdown",
      "metadata": {
        "id": "q2DNbuhM5k3S"
      },
      "source": [
        "imshow -> image show demektir, bir görsel plot ettirilirken kullanılır."
      ]
    },
    {
      "cell_type": "code",
      "execution_count": null,
      "metadata": {
        "id": "C2eM-yxcsWvd"
      },
      "outputs": [],
      "source": [
        "#increase dimension\n",
        "def resize_img(img):\n",
        "    numberOfImage = img.shape[0] #img.shape[0] -> 50000 sample için boyut genişletme uygulanır.\n",
        "    new_array = np.zeros((numberOfImage, 48,48,3)) \n",
        "    for i in range(numberOfImage):\n",
        "        new_array[i] = cv2.resize(img[i,:,:,:],(48,48))\n",
        "    return new_array"
      ]
    },
    {
      "cell_type": "markdown",
      "metadata": {
        "id": "8c_Tq8CTLV8C"
      },
      "source": [
        "VGG-19 modeline ImageNet datasındaki görseller 48x48 boyutundadır.\n",
        "\n",
        "Cifar-10 datasındaki görsellerin VGG-19 modeline uygun olması için boyutları genişletilmiştir.\n",
        "\n",
        "Open CV kütüphanesi çağırılarak resize methodu kullanılmıştır."
      ]
    },
    {
      "cell_type": "code",
      "execution_count": null,
      "metadata": {
        "id": "eQ-lCLovsYW1",
        "colab": {
          "base_uri": "https://localhost:8080/"
        },
        "outputId": "b84c0fff-3044-476d-facc-28913b30e882"
      },
      "outputs": [
        {
          "output_type": "stream",
          "name": "stdout",
          "text": [
            "increased dim x_train:  (50000, 48, 48, 3)\n"
          ]
        }
      ],
      "source": [
        "x_train = resize_img(x_train)\n",
        "x_test = resize_img(x_test)\n",
        "print(\"increased dim x_train: \",x_train.shape)"
      ]
    },
    {
      "cell_type": "markdown",
      "metadata": {
        "id": "GXmjGJmvNwCY"
      },
      "source": [
        "train ve test datasının boyutları değiştiği görülür."
      ]
    },
    {
      "cell_type": "code",
      "execution_count": null,
      "metadata": {
        "id": "cZra5mAisZ5B",
        "outputId": "daae06bd-0367-4d51-f61d-20c68449d0ef",
        "colab": {
          "base_uri": "https://localhost:8080/",
          "height": 248
        }
      },
      "outputs": [
        {
          "output_type": "display_data",
          "data": {
            "text/plain": [
              "<Figure size 432x288 with 1 Axes>"
            ],
            "image/png": "[encoded data removed]"
          },
          "metadata": {
            "needs_background": "light"
          }
        }
      ],
      "source": [
        "plt.figure()\n",
        "plt.imshow(x_train[551].astype(np.uint8))\n",
        "plt.axis(\"off\")\n",
        "plt.show()"
      ]
    },
    {
      "cell_type": "markdown",
      "metadata": {
        "id": "Jg80s_eqOYb6"
      },
      "source": [
        "Görseldeki piksellerde artış gözükmektedir."
      ]
    },
    {
      "cell_type": "code",
      "execution_count": null,
      "metadata": {
        "id": "OHzmmZrLscOz"
      },
      "outputs": [],
      "source": [
        "vgg = VGG19(include_top = False, weights = \"imagenet\", input_shape = (32,32,3))"
      ]
    },
    {
      "cell_type": "markdown",
      "metadata": {
        "id": "2uaXLGL2PA9V"
      },
      "source": [
        "görsellerin boyutu input_shape parametresi ile verilmiştir.\n",
        "\n",
        "weight'lerin imagenet olmasının sebebi vgg-19 transfer learning modeli olduğu için daha önceden ImageNet datasıyla eğitilen parametreler alınır.\n",
        "\n",
        "include_top parametresi False olduğunda vgg-19 modelindeki fully connected layer (ann kısmı) alınmayacaktır."
      ]
    },
    {
      "cell_type": "code",
      "execution_count": null,
      "metadata": {
        "id": "ErW0mTKvsejO",
        "outputId": "2f217434-e100-4b5f-b749-b316cb94d9c5"
      },
      "outputs": [
        {
          "name": "stdout",
          "output_type": "stream",
          "text": [
            "Model: \"vgg19\"\n",
            "_________________________________________________________________\n",
            " Layer (type)                Output Shape              Param #   \n",
            "=================================================================\n",
            " input_1 (InputLayer)        [(None, 32, 32, 3)]       0         \n",
            "                                                                 \n",
            " block1_conv1 (Conv2D)       (None, 32, 32, 64)        1792      \n",
            "                                                                 \n",
            " block1_conv2 (Conv2D)       (None, 32, 32, 64)        36928     \n",
            "                                                                 \n",
            " block1_pool (MaxPooling2D)  (None, 16, 16, 64)        0         \n",
            "                                                                 \n",
            " block2_conv1 (Conv2D)       (None, 16, 16, 128)       73856     \n",
            "                                                                 \n",
            " block2_conv2 (Conv2D)       (None, 16, 16, 128)       147584    \n",
            "                                                                 \n",
            " block2_pool (MaxPooling2D)  (None, 8, 8, 128)         0         \n",
            "                                                                 \n",
            " block3_conv1 (Conv2D)       (None, 8, 8, 256)         295168    \n",
            "                                                                 \n",
            " block3_conv2 (Conv2D)       (None, 8, 8, 256)         590080    \n",
            "                                                                 \n",
            " block3_conv3 (Conv2D)       (None, 8, 8, 256)         590080    \n",
            "                                                                 \n",
            " block3_conv4 (Conv2D)       (None, 8, 8, 256)         590080    \n",
            "                                                                 \n",
            " block3_pool (MaxPooling2D)  (None, 4, 4, 256)         0         \n",
            "                                                                 \n",
            " block4_conv1 (Conv2D)       (None, 4, 4, 512)         1180160   \n",
            "                                                                 \n",
            " block4_conv2 (Conv2D)       (None, 4, 4, 512)         2359808   \n",
            "                                                                 \n",
            " block4_conv3 (Conv2D)       (None, 4, 4, 512)         2359808   \n",
            "                                                                 \n",
            " block4_conv4 (Conv2D)       (None, 4, 4, 512)         2359808   \n",
            "                                                                 \n",
            " block4_pool (MaxPooling2D)  (None, 2, 2, 512)         0         \n",
            "                                                                 \n",
            " block5_conv1 (Conv2D)       (None, 2, 2, 512)         2359808   \n",
            "                                                                 \n",
            " block5_conv2 (Conv2D)       (None, 2, 2, 512)         2359808   \n",
            "                                                                 \n",
            " block5_conv3 (Conv2D)       (None, 2, 2, 512)         2359808   \n",
            "                                                                 \n",
            " block5_conv4 (Conv2D)       (None, 2, 2, 512)         2359808   \n",
            "                                                                 \n",
            " block5_pool (MaxPooling2D)  (None, 1, 1, 512)         0         \n",
            "                                                                 \n",
            "=================================================================\n",
            "Total params: 20,024,384\n",
            "Trainable params: 20,024,384\n",
            "Non-trainable params: 0\n",
            "_________________________________________________________________\n",
            "None\n"
          ]
        }
      ],
      "source": [
        "print(vgg.summary())"
      ]
    },
    {
      "cell_type": "markdown",
      "metadata": {
        "id": "nz5WYFPeQbni"
      },
      "source": [
        "Fully connected layer alınmadığı için son layer olarak max pooling'in alındığı görülür.\n",
        "\n",
        "VGG gibi transfer learning modellerinde genelde fully connected layer değiştirilir."
      ]
    },
    {
      "cell_type": "code",
      "execution_count": null,
      "metadata": {
        "id": "zmvBfLDSsgmS",
        "outputId": "fef893dc-c3db-4cfa-ef45-0e5c9497543d"
      },
      "outputs": [
        {
          "name": "stdout",
          "output_type": "stream",
          "text": [
            "[<keras.engine.input_layer.InputLayer object at 0x000001D6F99224F0>, <keras.layers.convolutional.conv2d.Conv2D object at 0x000001D6929E09A0>, <keras.layers.convolutional.conv2d.Conv2D object at 0x000001D6929E0C10>, <keras.layers.pooling.max_pooling2d.MaxPooling2D object at 0x000001D692A8F430>, <keras.layers.convolutional.conv2d.Conv2D object at 0x000001D6929E0F10>, <keras.layers.convolutional.conv2d.Conv2D object at 0x000001D692A8FAF0>, <keras.layers.pooling.max_pooling2d.MaxPooling2D object at 0x000001D698F80D60>, <keras.layers.convolutional.conv2d.Conv2D object at 0x000001D698F80940>, <keras.layers.convolutional.conv2d.Conv2D object at 0x000001D698F683A0>, <keras.layers.convolutional.conv2d.Conv2D object at 0x000001D698F90DC0>, <keras.layers.convolutional.conv2d.Conv2D object at 0x000001D698F845E0>, <keras.layers.pooling.max_pooling2d.MaxPooling2D object at 0x000001D698F96B20>, <keras.layers.convolutional.conv2d.Conv2D object at 0x000001D698F90EE0>, <keras.layers.convolutional.conv2d.Conv2D object at 0x000001D698F9C7F0>, <keras.layers.convolutional.conv2d.Conv2D object at 0x000001D698F9CB80>, <keras.layers.convolutional.conv2d.Conv2D object at 0x000001D698F9CFD0>, <keras.layers.pooling.max_pooling2d.MaxPooling2D object at 0x000001D6993EFD30>, <keras.layers.convolutional.conv2d.Conv2D object at 0x000001D6993EF8B0>, <keras.layers.convolutional.conv2d.Conv2D object at 0x000001D6993EFFD0>, <keras.layers.convolutional.conv2d.Conv2D object at 0x000001D6993E2E80>, <keras.layers.convolutional.conv2d.Conv2D object at 0x000001D6993FD700>, <keras.layers.pooling.max_pooling2d.MaxPooling2D object at 0x000001D6993E4AC0>]\n"
          ]
        }
      ],
      "source": [
        "vgg_layer_list = vgg.layers\n",
        "print(vgg_layer_list)"
      ]
    },
    {
      "cell_type": "markdown",
      "metadata": {
        "id": "USK7Q8DDRZAJ"
      },
      "source": [
        "Tüm layerlar liste halinde yazdırılmıştır."
      ]
    },
    {
      "cell_type": "code",
      "execution_count": null,
      "metadata": {
        "id": "InW1bzg5si0c"
      },
      "outputs": [],
      "source": [
        "model = Sequential()\n",
        "for layer in vgg_layer_list:\n",
        "    model.add(layer)"
      ]
    },
    {
      "cell_type": "markdown",
      "metadata": {
        "id": "KafjIld8Rktf"
      },
      "source": [
        "Layerlar sıralı bir şekilde sıralandığı için Sequential methoduyla modele eklenir."
      ]
    },
    {
      "cell_type": "code",
      "execution_count": null,
      "metadata": {
        "id": "I6qjqIvbslK2",
        "outputId": "1ae11d79-9e37-42ce-f552-0301251d2dd5"
      },
      "outputs": [
        {
          "name": "stdout",
          "output_type": "stream",
          "text": [
            "Model: \"sequential\"\n",
            "_________________________________________________________________\n",
            " Layer (type)                Output Shape              Param #   \n",
            "=================================================================\n",
            " block1_conv1 (Conv2D)       (None, 32, 32, 64)        1792      \n",
            "                                                                 \n",
            " block1_conv2 (Conv2D)       (None, 32, 32, 64)        36928     \n",
            "                                                                 \n",
            " block1_pool (MaxPooling2D)  (None, 16, 16, 64)        0         \n",
            "                                                                 \n",
            " block2_conv1 (Conv2D)       (None, 16, 16, 128)       73856     \n",
            "                                                                 \n",
            " block2_conv2 (Conv2D)       (None, 16, 16, 128)       147584    \n",
            "                                                                 \n",
            " block2_pool (MaxPooling2D)  (None, 8, 8, 128)         0         \n",
            "                                                                 \n",
            " block3_conv1 (Conv2D)       (None, 8, 8, 256)         295168    \n",
            "                                                                 \n",
            " block3_conv2 (Conv2D)       (None, 8, 8, 256)         590080    \n",
            "                                                                 \n",
            " block3_conv3 (Conv2D)       (None, 8, 8, 256)         590080    \n",
            "                                                                 \n",
            " block3_conv4 (Conv2D)       (None, 8, 8, 256)         590080    \n",
            "                                                                 \n",
            " block3_pool (MaxPooling2D)  (None, 4, 4, 256)         0         \n",
            "                                                                 \n",
            " block4_conv1 (Conv2D)       (None, 4, 4, 512)         1180160   \n",
            "                                                                 \n",
            " block4_conv2 (Conv2D)       (None, 4, 4, 512)         2359808   \n",
            "                                                                 \n",
            " block4_conv3 (Conv2D)       (None, 4, 4, 512)         2359808   \n",
            "                                                                 \n",
            " block4_conv4 (Conv2D)       (None, 4, 4, 512)         2359808   \n",
            "                                                                 \n",
            " block4_pool (MaxPooling2D)  (None, 2, 2, 512)         0         \n",
            "                                                                 \n",
            " block5_conv1 (Conv2D)       (None, 2, 2, 512)         2359808   \n",
            "                                                                 \n",
            " block5_conv2 (Conv2D)       (None, 2, 2, 512)         2359808   \n",
            "                                                                 \n",
            " block5_conv3 (Conv2D)       (None, 2, 2, 512)         2359808   \n",
            "                                                                 \n",
            " block5_conv4 (Conv2D)       (None, 2, 2, 512)         2359808   \n",
            "                                                                 \n",
            " block5_pool (MaxPooling2D)  (None, 1, 1, 512)         0         \n",
            "                                                                 \n",
            "=================================================================\n",
            "Total params: 20,024,384\n",
            "Trainable params: 20,024,384\n",
            "Non-trainable params: 0\n",
            "_________________________________________________________________\n",
            "None\n"
          ]
        }
      ],
      "source": [
        "print(model.summary())"
      ]
    },
    {
      "cell_type": "code",
      "execution_count": null,
      "metadata": {
        "id": "FDYQXJe5sm_9"
      },
      "outputs": [],
      "source": [
        "for layer in model.layers:\n",
        "    layer.trainable = False"
      ]
    },
    {
      "cell_type": "markdown",
      "metadata": {
        "id": "h1vNoOiNe1EQ"
      },
      "source": [
        "ImageNet datasıyla train edilmiş weight değerleri kullanılacağından train özelliği kapatılır."
      ]
    },
    {
      "cell_type": "code",
      "execution_count": null,
      "metadata": {
        "id": "4Lshv6issowb"
      },
      "outputs": [],
      "source": [
        "#fully connected layer\n",
        "model.add(Flatten())\n",
        "model.add(Dense(128))\n",
        "model.add(Dense(numberOfClass, activation= \"softmax\"))"
      ]
    },
    {
      "cell_type": "markdown",
      "metadata": {
        "id": "EuEZq-_HfbeQ"
      },
      "source": [
        "Flatten ile pikseller tek satırdan oluşan bir vektör haline getirilir. \n",
        "\n",
        "128 node'dan oluşan bir hidden layer eklenir.\n",
        "\n",
        "Multiclass classification olduğu için activation function olarak softmax function kullanılmıştır.\n",
        "\n",
        "Output layer'da datadaki class sayısı kadar node bulunacaktır."
      ]
    },
    {
      "cell_type": "code",
      "execution_count": null,
      "metadata": {
        "id": "X25VPrHysqmM",
        "outputId": "e126d843-ad5c-4d23-abe9-17322084d93a"
      },
      "outputs": [
        {
          "name": "stdout",
          "output_type": "stream",
          "text": [
            "Model: \"sequential\"\n",
            "_________________________________________________________________\n",
            " Layer (type)                Output Shape              Param #   \n",
            "=================================================================\n",
            " block1_conv1 (Conv2D)       (None, 32, 32, 64)        1792      \n",
            "                                                                 \n",
            " block1_conv2 (Conv2D)       (None, 32, 32, 64)        36928     \n",
            "                                                                 \n",
            " block1_pool (MaxPooling2D)  (None, 16, 16, 64)        0         \n",
            "                                                                 \n",
            " block2_conv1 (Conv2D)       (None, 16, 16, 128)       73856     \n",
            "                                                                 \n",
            " block2_conv2 (Conv2D)       (None, 16, 16, 128)       147584    \n",
            "                                                                 \n",
            " block2_pool (MaxPooling2D)  (None, 8, 8, 128)         0         \n",
            "                                                                 \n",
            " block3_conv1 (Conv2D)       (None, 8, 8, 256)         295168    \n",
            "                                                                 \n",
            " block3_conv2 (Conv2D)       (None, 8, 8, 256)         590080    \n",
            "                                                                 \n",
            " block3_conv3 (Conv2D)       (None, 8, 8, 256)         590080    \n",
            "                                                                 \n",
            " block3_conv4 (Conv2D)       (None, 8, 8, 256)         590080    \n",
            "                                                                 \n",
            " block3_pool (MaxPooling2D)  (None, 4, 4, 256)         0         \n",
            "                                                                 \n",
            " block4_conv1 (Conv2D)       (None, 4, 4, 512)         1180160   \n",
            "                                                                 \n",
            " block4_conv2 (Conv2D)       (None, 4, 4, 512)         2359808   \n",
            "                                                                 \n",
            " block4_conv3 (Conv2D)       (None, 4, 4, 512)         2359808   \n",
            "                                                                 \n",
            " block4_conv4 (Conv2D)       (None, 4, 4, 512)         2359808   \n",
            "                                                                 \n",
            " block4_pool (MaxPooling2D)  (None, 2, 2, 512)         0         \n",
            "                                                                 \n",
            " block5_conv1 (Conv2D)       (None, 2, 2, 512)         2359808   \n",
            "                                                                 \n",
            " block5_conv2 (Conv2D)       (None, 2, 2, 512)         2359808   \n",
            "                                                                 \n",
            " block5_conv3 (Conv2D)       (None, 2, 2, 512)         2359808   \n",
            "                                                                 \n",
            " block5_conv4 (Conv2D)       (None, 2, 2, 512)         2359808   \n",
            "                                                                 \n",
            " block5_pool (MaxPooling2D)  (None, 1, 1, 512)         0         \n",
            "                                                                 \n",
            " flatten (Flatten)           (None, 512)               0         \n",
            "                                                                 \n",
            " dense (Dense)               (None, 128)               65664     \n",
            "                                                                 \n",
            " dense_1 (Dense)             (None, 10)                1290      \n",
            "                                                                 \n",
            "=================================================================\n",
            "Total params: 20,091,338\n",
            "Trainable params: 66,954\n",
            "Non-trainable params: 20,024,384\n",
            "_________________________________________________________________\n",
            "None\n"
          ]
        }
      ],
      "source": [
        "print(model.summary())"
      ]
    },
    {
      "cell_type": "markdown",
      "metadata": {
        "id": "ynPLLl1wg-JH"
      },
      "source": [
        "Modele flatten, hidden layer, output layer'ın eklendiği görülür."
      ]
    },
    {
      "cell_type": "code",
      "execution_count": null,
      "metadata": {
        "id": "jrK99DmKssEz"
      },
      "outputs": [],
      "source": [
        "model.compile(loss = \"categorical_crossentropy\",\n",
        "              optimizer = \"rmsprop\",\n",
        "              metrics = [\"accuracy\"])"
      ]
    },
    {
      "cell_type": "markdown",
      "metadata": {
        "id": "CuMuBiRRjhrf"
      },
      "source": [
        "loss -> categorical cross entropy hesaplanarak bulunur.\n",
        "\n",
        "learning rate'i optimize etmek için rmsprop kullanılacaktır.\n",
        "\n",
        "metrics -> accuracy'e bakılacaktır."
      ]
    },
    {
      "cell_type": "code",
      "execution_count": null,
      "metadata": {
        "id": "jFVxwwOCsvAu",
        "scrolled": false,
        "outputId": "d08e7c8a-fa72-47d4-fae6-83a4473c4aa3"
      },
      "outputs": [
        {
          "name": "stdout",
          "output_type": "stream",
          "text": [
            "Epoch 1/50\n",
            "27/27 [==============================] - 13s 332ms/step - loss: 15.4860 - accuracy: 0.3293 - val_loss: 11.1805 - val_accuracy: 0.3843\n",
            "Epoch 2/50\n",
            "27/27 [==============================] - 7s 255ms/step - loss: 8.4008 - accuracy: 0.4294 - val_loss: 7.8378 - val_accuracy: 0.4294\n",
            "Epoch 3/50\n",
            "27/27 [==============================] - 7s 255ms/step - loss: 6.8559 - accuracy: 0.4548 - val_loss: 7.2947 - val_accuracy: 0.4179\n",
            "Epoch 4/50\n",
            "27/27 [==============================] - 7s 257ms/step - loss: 6.1079 - accuracy: 0.4685 - val_loss: 7.2447 - val_accuracy: 0.3902\n",
            "Epoch 5/50\n",
            "27/27 [==============================] - 7s 257ms/step - loss: 5.7310 - accuracy: 0.4724 - val_loss: 5.1977 - val_accuracy: 0.4675\n",
            "Epoch 6/50\n",
            "27/27 [==============================] - 7s 257ms/step - loss: 5.1820 - accuracy: 0.4810 - val_loss: 4.5327 - val_accuracy: 0.4935\n",
            "Epoch 7/50\n",
            "27/27 [==============================] - 7s 258ms/step - loss: 4.8489 - accuracy: 0.4869 - val_loss: 6.1214 - val_accuracy: 0.4360\n",
            "Epoch 8/50\n",
            "27/27 [==============================] - 7s 258ms/step - loss: 4.6488 - accuracy: 0.4899 - val_loss: 5.3895 - val_accuracy: 0.4651\n",
            "Epoch 9/50\n",
            "27/27 [==============================] - 7s 258ms/step - loss: 4.5310 - accuracy: 0.4898 - val_loss: 5.3123 - val_accuracy: 0.4479\n",
            "Epoch 10/50\n",
            "27/27 [==============================] - 7s 259ms/step - loss: 4.3696 - accuracy: 0.4870 - val_loss: 4.3834 - val_accuracy: 0.4798\n",
            "Epoch 11/50\n",
            "27/27 [==============================] - 7s 259ms/step - loss: 4.0838 - accuracy: 0.4921 - val_loss: 3.4127 - val_accuracy: 0.4849\n",
            "Epoch 12/50\n",
            "27/27 [==============================] - 7s 258ms/step - loss: 4.1153 - accuracy: 0.4852 - val_loss: 4.9957 - val_accuracy: 0.4729\n",
            "Epoch 13/50\n",
            "27/27 [==============================] - 7s 259ms/step - loss: 3.7659 - accuracy: 0.4938 - val_loss: 4.8543 - val_accuracy: 0.4754\n",
            "Epoch 14/50\n",
            "27/27 [==============================] - 7s 260ms/step - loss: 3.6557 - accuracy: 0.4994 - val_loss: 3.8178 - val_accuracy: 0.4804\n",
            "Epoch 15/50\n",
            "27/27 [==============================] - 7s 259ms/step - loss: 3.5898 - accuracy: 0.4967 - val_loss: 3.0367 - val_accuracy: 0.5120\n",
            "Epoch 16/50\n",
            "27/27 [==============================] - 7s 260ms/step - loss: 3.3881 - accuracy: 0.4927 - val_loss: 3.8606 - val_accuracy: 0.5192\n",
            "Epoch 17/50\n",
            "27/27 [==============================] - 7s 259ms/step - loss: 3.2872 - accuracy: 0.4950 - val_loss: 5.1024 - val_accuracy: 0.4584\n",
            "Epoch 18/50\n",
            "27/27 [==============================] - 7s 260ms/step - loss: 3.3065 - accuracy: 0.4933 - val_loss: 3.6222 - val_accuracy: 0.4762\n",
            "Epoch 19/50\n",
            "27/27 [==============================] - 7s 259ms/step - loss: 3.1114 - accuracy: 0.5000 - val_loss: 3.7644 - val_accuracy: 0.4486\n",
            "Epoch 20/50\n",
            "27/27 [==============================] - 7s 259ms/step - loss: 3.0333 - accuracy: 0.5013 - val_loss: 3.4215 - val_accuracy: 0.4714\n",
            "Epoch 21/50\n",
            "27/27 [==============================] - 7s 260ms/step - loss: 2.9321 - accuracy: 0.4952 - val_loss: 2.1474 - val_accuracy: 0.5380\n",
            "Epoch 22/50\n",
            "27/27 [==============================] - 7s 259ms/step - loss: 2.8769 - accuracy: 0.4970 - val_loss: 2.8442 - val_accuracy: 0.4980\n",
            "Epoch 23/50\n",
            "27/27 [==============================] - 7s 260ms/step - loss: 2.6951 - accuracy: 0.5074 - val_loss: 2.7427 - val_accuracy: 0.4937\n",
            "Epoch 24/50\n",
            "27/27 [==============================] - 7s 259ms/step - loss: 2.5445 - accuracy: 0.5089 - val_loss: 2.3240 - val_accuracy: 0.4994\n",
            "Epoch 25/50\n",
            "27/27 [==============================] - 7s 260ms/step - loss: 2.5838 - accuracy: 0.5012 - val_loss: 2.6928 - val_accuracy: 0.4751\n",
            "Epoch 26/50\n",
            "27/27 [==============================] - 7s 261ms/step - loss: 2.4556 - accuracy: 0.5061 - val_loss: 2.2216 - val_accuracy: 0.4927\n",
            "Epoch 27/50\n",
            "27/27 [==============================] - 7s 260ms/step - loss: 2.3392 - accuracy: 0.5085 - val_loss: 3.1299 - val_accuracy: 0.4533\n",
            "Epoch 28/50\n",
            "27/27 [==============================] - 7s 260ms/step - loss: 2.2710 - accuracy: 0.5163 - val_loss: 2.6836 - val_accuracy: 0.4576\n",
            "Epoch 29/50\n",
            "27/27 [==============================] - 7s 260ms/step - loss: 2.1846 - accuracy: 0.5083 - val_loss: 2.9255 - val_accuracy: 0.4709\n",
            "Epoch 30/50\n",
            "27/27 [==============================] - 7s 261ms/step - loss: 2.1993 - accuracy: 0.5073 - val_loss: 2.1809 - val_accuracy: 0.4741\n",
            "Epoch 31/50\n",
            "27/27 [==============================] - 7s 260ms/step - loss: 2.0286 - accuracy: 0.5178 - val_loss: 2.0953 - val_accuracy: 0.4945\n",
            "Epoch 32/50\n",
            "27/27 [==============================] - 7s 261ms/step - loss: 1.9505 - accuracy: 0.5192 - val_loss: 2.4860 - val_accuracy: 0.4456\n",
            "Epoch 33/50\n",
            "27/27 [==============================] - 7s 262ms/step - loss: 1.9033 - accuracy: 0.5175 - val_loss: 2.6476 - val_accuracy: 0.4767\n",
            "Epoch 34/50\n",
            "27/27 [==============================] - 7s 261ms/step - loss: 1.8812 - accuracy: 0.5187 - val_loss: 1.8570 - val_accuracy: 0.5068\n",
            "Epoch 35/50\n",
            "27/27 [==============================] - 7s 260ms/step - loss: 1.7199 - accuracy: 0.5323 - val_loss: 1.6531 - val_accuracy: 0.5184\n",
            "Epoch 36/50\n",
            "27/27 [==============================] - 7s 260ms/step - loss: 1.6912 - accuracy: 0.5265 - val_loss: 1.7935 - val_accuracy: 0.5067\n",
            "Epoch 37/50\n",
            "27/27 [==============================] - 7s 260ms/step - loss: 1.6409 - accuracy: 0.5325 - val_loss: 1.7034 - val_accuracy: 0.5092\n",
            "Epoch 38/50\n",
            "27/27 [==============================] - 7s 262ms/step - loss: 1.5727 - accuracy: 0.5388 - val_loss: 1.8753 - val_accuracy: 0.5004\n",
            "Epoch 39/50\n",
            "27/27 [==============================] - 7s 260ms/step - loss: 1.5502 - accuracy: 0.5390 - val_loss: 1.5286 - val_accuracy: 0.5262\n",
            "Epoch 40/50\n",
            "27/27 [==============================] - 7s 262ms/step - loss: 1.4803 - accuracy: 0.5385 - val_loss: 1.6545 - val_accuracy: 0.5017\n",
            "Epoch 41/50\n",
            "27/27 [==============================] - 7s 262ms/step - loss: 1.4579 - accuracy: 0.5421 - val_loss: 1.4930 - val_accuracy: 0.5382\n",
            "Epoch 42/50\n",
            "27/27 [==============================] - 7s 261ms/step - loss: 1.3958 - accuracy: 0.5509 - val_loss: 1.4580 - val_accuracy: 0.5365\n",
            "Epoch 43/50\n",
            "27/27 [==============================] - 7s 260ms/step - loss: 1.3562 - accuracy: 0.5569 - val_loss: 1.3594 - val_accuracy: 0.5556\n",
            "Epoch 44/50\n",
            "27/27 [==============================] - 7s 260ms/step - loss: 1.3317 - accuracy: 0.5611 - val_loss: 1.5084 - val_accuracy: 0.5174\n",
            "Epoch 45/50\n",
            "27/27 [==============================] - 7s 260ms/step - loss: 1.3187 - accuracy: 0.5605 - val_loss: 1.3092 - val_accuracy: 0.5656\n",
            "Epoch 46/50\n",
            "27/27 [==============================] - 7s 262ms/step - loss: 1.2804 - accuracy: 0.5680 - val_loss: 1.3579 - val_accuracy: 0.5407\n",
            "Epoch 47/50\n",
            "27/27 [==============================] - 7s 261ms/step - loss: 1.2605 - accuracy: 0.5712 - val_loss: 1.3745 - val_accuracy: 0.5456\n",
            "Epoch 48/50\n",
            "27/27 [==============================] - 7s 261ms/step - loss: 1.2418 - accuracy: 0.5749 - val_loss: 1.4153 - val_accuracy: 0.5370\n",
            "Epoch 49/50\n",
            "27/27 [==============================] - 7s 262ms/step - loss: 1.2343 - accuracy: 0.5770 - val_loss: 1.3291 - val_accuracy: 0.5477\n",
            "Epoch 50/50\n",
            "27/27 [==============================] - 7s 262ms/step - loss: 1.2310 - accuracy: 0.5780 - val_loss: 1.2620 - val_accuracy: 0.5649\n"
          ]
        }
      ],
      "source": [
        "hist = model.fit(x_train, y_train, validation_split = 0.2, epochs = 50, batch_size = 1500)"
      ]
    },
    {
      "cell_type": "markdown",
      "metadata": {
        "id": "oon7pGl_jsby"
      },
      "source": [
        "Validation datası validation_split parametresi ile train datasının yüzde 20'si alınarak oluşturulmuştur. "
      ]
    },
    {
      "cell_type": "code",
      "execution_count": null,
      "metadata": {
        "id": "kvXG5kKkszJr"
      },
      "outputs": [],
      "source": [
        "#model save\n",
        "model.save_weights(\"transfer_learning_vgg19_cfar10.h5\")"
      ]
    },
    {
      "cell_type": "markdown",
      "metadata": {
        "id": "oDIl3QFNkUVG"
      },
      "source": [
        "Cifar datasıyla eğitilmiş modelin weight değerleri kaydedilir."
      ]
    },
    {
      "cell_type": "code",
      "execution_count": null,
      "metadata": {
        "id": "TZpY2c5PksIt",
        "outputId": "b0afa4bc-42f8-4603-9f2c-ebd4ab11a0ee"
      },
      "outputs": [
        {
          "name": "stdout",
          "output_type": "stream",
          "text": [
            "dict_keys(['loss', 'accuracy', 'val_loss', 'val_accuracy'])\n"
          ]
        }
      ],
      "source": [
        "print(hist.history.keys())"
      ]
    },
    {
      "cell_type": "markdown",
      "metadata": {
        "id": "9fW8UVNMk3s_"
      },
      "source": [
        "History'de tutulan loss, accuracy, val_loss, val_accuracy değerleri görselleştirilecektir."
      ]
    },
    {
      "cell_type": "code",
      "execution_count": null,
      "metadata": {
        "id": "5m1pR6gnsz6w",
        "outputId": "d3603a95-a9d5-45ec-99a7-a5d48c6b1354"
      },
      "outputs": [
        {
          "data": {
            "image/png": "[encoded data removed]",
            "text/plain": [
              "<Figure size 432x288 with 1 Axes>"
            ]
          },
          "metadata": {
            "needs_background": "light"
          },
          "output_type": "display_data"
        },
        {
          "data": {
            "image/png": "[encoded data removed]",
            "text/plain": [
              "<Figure size 432x288 with 1 Axes>"
            ]
          },
          "metadata": {
            "needs_background": "light"
          },
          "output_type": "display_data"
        }
      ],
      "source": [
        "plt.plot(hist.history[\"loss\"], label = \"train loss\")\n",
        "plt.plot(hist.history[\"val_loss\"], label = \"val loss\")\n",
        "plt.legend()\n",
        "plt.show()\n",
        "plt.figure()\n",
        "plt.plot(hist.history[\"accuracy\"], label = \"train acc\")\n",
        "plt.plot(hist.history[\"val_accuracy\"], label = \"val acc\")\n",
        "plt.legend()\n",
        "plt.show()"
      ]
    },
    {
      "cell_type": "code",
      "execution_count": null,
      "metadata": {
        "id": "ucznjUbUlYCR"
      },
      "outputs": [],
      "source": [
        "#save history\n",
        "import json, codecs\n",
        "with open(\"transfer_learning_vgg19_cfar10.json\",\"w\") as f:\n",
        "    json.dump(hist.history,f)"
      ]
    },
    {
      "cell_type": "markdown",
      "metadata": {
        "id": "BwSBwpZMleWa"
      },
      "source": [
        "Model kaydedilmiştir."
      ]
    },
    {
      "cell_type": "code",
      "execution_count": null,
      "metadata": {
        "id": "olNQCqzmtFLA"
      },
      "outputs": [],
      "source": [
        "#load\n",
        "import json, codecs\n",
        "with codecs.open(\"transfer_learning_vgg19_cfar10.json\",\"r\",encoding = \"utf-8\") as f:\n",
        "    n = json.loads(f.read())"
      ]
    },
    {
      "cell_type": "markdown",
      "metadata": {
        "id": "UkqEWlA1lMLm"
      },
      "source": [
        "Kaydedilen model yüklenmiştir."
      ]
    },
    {
      "cell_type": "code",
      "execution_count": null,
      "metadata": {
        "id": "oLi8f2nptICO",
        "outputId": "fe13bcfb-f9c5-4f72-a283-3855dd4f4bba"
      },
      "outputs": [
        {
          "data": {
            "image/png": "[encoded data removed]",
            "text/plain": [
              "<Figure size 432x288 with 1 Axes>"
            ]
          },
          "metadata": {
            "needs_background": "light"
          },
          "output_type": "display_data"
        }
      ],
      "source": [
        "plt.plot(n[\"accuracy\"], label = \"train acc\")\n",
        "plt.plot(n[\"val_accuracy\"], label = \"val acc\")\n",
        "plt.legend()\n",
        "plt.show()"
      ]
    },
    {
      "cell_type": "markdown",
      "metadata": {
        "id": "5cTYzxqil7dm"
      },
      "source": [
        "Yüklenen modelin accuracy ve validation accuracy değerleri görselleştirilmiştir."
      ]
    }
  ],
  "metadata": {
    "colab": {
      "collapsed_sections": [],
      "name": "transfer_learning_cfar10_project.ipynb",
      "provenance": []
    },
    "kernelspec": {
      "display_name": "Python 3 (ipykernel)",
      "language": "python",
      "name": "python3"
    },
    "language_info": {
      "codemirror_mode": {
        "name": "ipython",
        "version": 3
      },
      "file_extension": ".py",
      "mimetype": "text/x-python",
      "name": "python",
      "nbconvert_exporter": "python",
      "pygments_lexer": "ipython3",
      "version": "3.9.12"
    }
  },
  "nbformat": 4,
  "nbformat_minor": 0
}